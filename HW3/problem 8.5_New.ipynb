{
 "cells": [
  {
   "cell_type": "code",
   "execution_count": 300,
   "metadata": {},
   "outputs": [],
   "source": [
    "import random\n",
    "import numpy as np\n",
    "import matplotlib.pyplot as plt\n",
    "plt.rcParams['axes.unicode_minus'] = False \n",
    "#generate a data set of 20. \n",
    "#for simplicity, 10 in the first quadrant, another 10 in the third quadrant \n",
    "X1_positive = []\n",
    "X2_positive = []\n",
    "X1_negative = []\n",
    "X2_negative = []\n",
    "\n",
    "for i in range(3):\n",
    "    X1_positive.append(random.uniform(0,1))\n",
    "    X2_positive.append(random.uniform(0,1))\n",
    "    X1_negative.append(random.uniform(-1,0))\n",
    "    X2_negative.append(random.uniform(-1,0))\n",
    "    \n",
    "#label the data\n",
    "data1 = [np.array([X1_positive[i],X2_positive[i],1]) for i in range(3)]\n",
    "data2 = [np.array([X2_negative[i],X2_negative[i],-1]) for i in range(3)]\n",
    "data = data1 + data2\n",
    "\n",
    "#data1_PLA = [np.array([1,X1_positive[i],X2_positive[i],1]) for i in range(3)]\n",
    "#data2_PLA = [np.array([1,X1_negative[i],X2_negative[i],-1]) for i in range(3)]\n",
    "#data_PLA = data1_PLA + data2_PLA\n"
   ]
  },
  {
   "cell_type": "code",
   "execution_count": 301,
   "metadata": {},
   "outputs": [
    {
     "data": {
      "image/png": "[encoded data removed]",
      "text/plain": [
       "<Figure size 432x288 with 1 Axes>"
      ]
     },
     "metadata": {},
     "output_type": "display_data"
    }
   ],
   "source": [
    "#Part b plotting target function f and hypothesis g of the Problem 1.4 from the HW - 1\n",
    "plt.plot(X1_positive, X2_positive, 'bo')\n",
    "plt.plot(X1_negative, X2_negative, 'ro')\n",
    "x = np.linspace(-1,1)\n",
    "plt.xlabel(\"X1\");\n",
    "plt.ylabel(\"X2\");\n",
    "plt.show()"
   ]
  },
  {
   "cell_type": "code",
   "execution_count": 302,
   "metadata": {},
   "outputs": [],
   "source": [
    "def getRandomSeparator(data):\n",
    "    X2 = np.array(data)[:,1:2]\n",
    "    y = np.array(data)[:,2:3]\n",
    "    flag = False\n",
    "    while flag == False:\n",
    "        a_random = random.uniform(-1,1)\n",
    "        count = 0\n",
    "        for i in range(len(X2)):\n",
    "            if np.sign(X2[i]-a_random)*y[i] == 1:\n",
    "                count += 1\n",
    "        if count == 6:\n",
    "            flag = True\n",
    "                \n",
    "    #print(\"Got random separator at a_random = \", a_random)\n",
    "    return a_random\n",
    "        "
   ]
  },
  {
   "cell_type": "code",
   "execution_count": 303,
   "metadata": {},
   "outputs": [
    {
     "name": "stdout",
     "output_type": "stream",
     "text": [
      "-0.04626804010567831\n"
     ]
    }
   ],
   "source": [
    "a_random = getRandomSeparator(data)\n",
    "print(a_random)"
   ]
  },
  {
   "cell_type": "code",
   "execution_count": 304,
   "metadata": {},
   "outputs": [
    {
     "data": {
      "image/png": "[encoded data removed]",
      "text/plain": [
       "<Figure size 432x288 with 1 Axes>"
      ]
     },
     "metadata": {},
     "output_type": "display_data"
    }
   ],
   "source": [
    "#Part b plotting target function f and hypothesis g of the Problem 1.4 from the HW - 1\n",
    "plt.plot(X1_positive, X2_positive, 'bo')\n",
    "plt.plot(X1_negative, X2_negative, 'ro')\n",
    "x = np.linspace(-1,1)\n",
    "plt.axhline(a_random)\n",
    "plt.xlabel(\"X1\");\n",
    "plt.ylabel(\"X2\");\n",
    "plt.show()"
   ]
  },
  {
   "cell_type": "code",
   "execution_count": 305,
   "metadata": {},
   "outputs": [],
   "source": [
    "\n",
    "def calculateDistance(X, a):\n",
    "    #print(X)\n",
    "    return abs(X[1]-a)\n",
    "\n",
    "def checkForMarginSeparator(data):\n",
    "    a = getRandomSeparator(data)\n",
    "    dist = []\n",
    "    for i in range(len(data)):\n",
    "        dist.append(calculateDistance(data[i], a))\n",
    "    #print(dist)\n",
    "    minPosDist = min(dist[0:3])\n",
    "    minNegDist = min(dist[4:7])\n",
    "    #print(minPosDist)\n",
    "    #print(minNegDist)\n",
    "    return minPosDist, minNegDist, a"
   ]
  },
  {
   "cell_type": "code",
   "execution_count": 320,
   "metadata": {},
   "outputs": [],
   "source": [
    "def getMaxMarginSeparatorForSVM(data):\n",
    "    while True:\n",
    "        minPosDist, minNegDist, a_svm = checkForMarginSeparator(data)\n",
    "        #print(minPosDist - minNegDist)\n",
    "        if abs(minPosDist - minNegDist) <= 0.005:\n",
    "            break\n",
    "    #print(a_svm)\n",
    "    return a_svm\n",
    "        "
   ]
  },
  {
   "cell_type": "code",
   "execution_count": 307,
   "metadata": {},
   "outputs": [],
   "source": [
    "a_svm = getMaxMarginSeparatorForSVM(data)"
   ]
  },
  {
   "cell_type": "code",
   "execution_count": 308,
   "metadata": {},
   "outputs": [
    {
     "data": {
      "image/png": "[encoded data removed]",
      "text/plain": [
       "<Figure size 432x288 with 1 Axes>"
      ]
     },
     "metadata": {},
     "output_type": "display_data"
    }
   ],
   "source": [
    "#Part b plotting target function f and hypothesis g of the Problem 1.4 from the HW - 1\n",
    "plt.plot(X1_positive, X2_positive, 'bo')\n",
    "plt.plot(X1_negative, X2_negative, 'ro')\n",
    "x = np.linspace(-1,1)\n",
    "plt.axhline(a_random,color='r')\n",
    "plt.axhline(a_svm,color='b')\n",
    "plt.xlabel(\"X1\");\n",
    "plt.ylabel(\"X2\");\n",
    "plt.show()"
   ]
  },
  {
   "cell_type": "code",
   "execution_count": 329,
   "metadata": {},
   "outputs": [],
   "source": [
    "def generateRandomThreeDataPoints():\n",
    "    X1_positive = []\n",
    "    X2_positive = []\n",
    "    X1_negative = []\n",
    "    X2_negative = []\n",
    "    \n",
    "    for i in range(3):\n",
    "        X1_positive.append(random.uniform(0,1))\n",
    "        X2_positive.append(random.uniform(0,1))\n",
    "        X1_negative.append(random.uniform(-1,0))\n",
    "        X2_negative.append(random.uniform(-1,0))\n",
    "\n",
    "    #label the data\n",
    "    data1 = [np.array([X1_positive[i],X2_positive[i],1]) for i in range(3)]\n",
    "    data2 = [np.array([X1_negative[i],X2_negative[i],-1]) for i in range(3)]\n",
    "    data = data1 + data2\n",
    "    return data\n",
    "    "
   ]
  },
  {
   "cell_type": "code",
   "execution_count": 330,
   "metadata": {},
   "outputs": [],
   "source": [
    "from sklearn import svm\n",
    "clf = svm.SVC(kernel='linear', C = 1.0)"
   ]
  },
  {
   "cell_type": "code",
   "execution_count": 331,
   "metadata": {},
   "outputs": [],
   "source": [
    "#a_random = []\n",
    "svm_hypothesis = []\n",
    "a_svm = []\n",
    "\n",
    "for j in range(1,1000001):\n",
    "\n",
    "    data = generateRandomThreeDataPoints()\n",
    "    \n",
    "    X = np.array(data)[:,0:2]\n",
    "    y = np.array(data)[:,2]\n",
    "    \n",
    "    #a_random.append(random.uniform(-1,1))\n",
    "    clf.fit(X,y)\n",
    "    W = clf.coef_[0]\n",
    "    b = clf.intercept_[0]\n",
    "    a_svm.append(-b)\n",
    "#     temp = {\n",
    "#         \"w0\":W[0],\n",
    "#         \"w1\":W[1],\n",
    "#         \"b\":b\n",
    "#     }\n",
    "#     svm_hypothesis.append(temp)"
   ]
  },
  {
   "cell_type": "code",
   "execution_count": 326,
   "metadata": {},
   "outputs": [
    {
     "data": {
      "image/png": "[encoded data removed]",
      "text/plain": [
       "<Figure size 432x288 with 1 Axes>"
      ]
     },
     "metadata": {},
     "output_type": "display_data"
    }
   ],
   "source": [
    "plt.hist(a_random_list, bins='auto')\n",
    "plt.show()"
   ]
  },
  {
   "cell_type": "code",
   "execution_count": 318,
   "metadata": {},
   "outputs": [
    {
     "data": {
      "image/png": "[encoded data removed]",
      "text/plain": [
       "<Figure size 432x288 with 1 Axes>"
      ]
     },
     "metadata": {},
     "output_type": "display_data"
    }
   ],
   "source": [
    "plt.hist(a_svm_list, bins='auto')\n",
    "plt.show()"
   ]
  },
  {
   "cell_type": "code",
   "execution_count": null,
   "metadata": {},
   "outputs": [],
   "source": []
  },
  {
   "cell_type": "code",
   "execution_count": null,
   "metadata": {},
   "outputs": [],
   "source": []
  }
 ],
 "metadata": {
  "kernelspec": {
   "display_name": "Python 3",
   "language": "python",
   "name": "python3"
  },
  "language_info": {
   "codemirror_mode": {
    "name": "ipython",
    "version": 3
   },
   "file_extension": ".py",
   "mimetype": "text/x-python",
   "name": "python",
   "nbconvert_exporter": "python",
   "pygments_lexer": "ipython3",
   "version": "3.6.5"
  }
 },
 "nbformat": 4,
 "nbformat_minor": 2
}
