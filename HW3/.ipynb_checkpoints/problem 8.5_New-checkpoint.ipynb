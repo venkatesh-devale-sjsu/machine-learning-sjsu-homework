{
 "cells": [
  {
   "cell_type": "code",
   "execution_count": 214,
   "metadata": {},
   "outputs": [],
   "source": [
    "import random\n",
    "import numpy as np\n",
    "import matplotlib.pyplot as plt\n",
    "plt.rcParams['axes.unicode_minus'] = False \n",
    "#generate a data set of 20. \n",
    "#for simplicity, 10 in the first quadrant, another 10 in the third quadrant \n",
    "X1_positive = []\n",
    "X2_positive = []\n",
    "X1_negative = []\n",
    "X2_negative = []\n",
    "\n",
    "for i in range(3):\n",
    "    X1_positive.append(random.uniform(0,1))\n",
    "    X2_positive.append(random.uniform(0,1))\n",
    "    X1_negative.append(random.uniform(-1,0))\n",
    "    X2_negative.append(random.uniform(-1,0))\n",
    "    \n",
    "#label the data\n",
    "data1 = [np.array([X1_positive[i],X2_positive[i],1]) for i in range(3)]\n",
    "data2 = [np.array([X2_negative[i],X2_negative[i],-1]) for i in range(3)]\n",
    "data = data1 + data2\n",
    "\n",
    "#data1_PLA = [np.array([1,X1_positive[i],X2_positive[i],1]) for i in range(3)]\n",
    "#data2_PLA = [np.array([1,X1_negative[i],X2_negative[i],-1]) for i in range(3)]\n",
    "#data_PLA = data1_PLA + data2_PLA\n"
   ]
  },
  {
   "cell_type": "code",
   "execution_count": 215,
   "metadata": {},
   "outputs": [
    {
     "data": {
      "image/png": "[encoded data removed]",
      "text/plain": [
       "<Figure size 432x288 with 1 Axes>"
      ]
     },
     "metadata": {},
     "output_type": "display_data"
    }
   ],
   "source": [
    "#Part b plotting target function f and hypothesis g of the Problem 1.4 from the HW - 1\n",
    "plt.plot(X1_positive, X2_positive, 'bo')\n",
    "plt.plot(X1_negative, X2_negative, 'ro')\n",
    "x = np.linspace(-1,1)\n",
    "plt.xlabel(\"X1\");\n",
    "plt.ylabel(\"X2\");\n",
    "plt.show()"
   ]
  },
  {
   "cell_type": "code",
   "execution_count": 216,
   "metadata": {},
   "outputs": [],
   "source": [
    "def getRandomSeparator():\n",
    "    X2 = np.array(data)[:,1:2]\n",
    "    y = np.array(data)[:,2:3]\n",
    "    flag = False\n",
    "    while flag == False:\n",
    "        a_random = random.uniform(-1,1)\n",
    "        count = 0\n",
    "        for i in range(len(X2)):\n",
    "            if np.sign(X2[i]-a_random)*y[i] == 1:\n",
    "                count += 1\n",
    "        if count == 6:\n",
    "            flag = True\n",
    "                \n",
    "    #print(\"Got random separator at a_random = \", a_random)\n",
    "    return a_random\n",
    "        "
   ]
  },
  {
   "cell_type": "code",
   "execution_count": 217,
   "metadata": {},
   "outputs": [
    {
     "name": "stdout",
     "output_type": "stream",
     "text": [
      "-0.08973185343828116\n"
     ]
    }
   ],
   "source": [
    "a_random = getRandomSeparator()\n",
    "print(a_random)"
   ]
  },
  {
   "cell_type": "code",
   "execution_count": 218,
   "metadata": {},
   "outputs": [
    {
     "data": {
      "image/png": "[encoded data removed]",
      "text/plain": [
       "<Figure size 432x288 with 1 Axes>"
      ]
     },
     "metadata": {},
     "output_type": "display_data"
    }
   ],
   "source": [
    "#Part b plotting target function f and hypothesis g of the Problem 1.4 from the HW - 1\n",
    "plt.plot(X1_positive, X2_positive, 'bo')\n",
    "plt.plot(X1_negative, X2_negative, 'ro')\n",
    "x = np.linspace(-1,1)\n",
    "plt.axhline(a_random)\n",
    "plt.xlabel(\"X1\");\n",
    "plt.ylabel(\"X2\");\n",
    "plt.show()"
   ]
  },
  {
   "cell_type": "code",
   "execution_count": 219,
   "metadata": {},
   "outputs": [],
   "source": [
    "\n",
    "def calculateDistance(X, a):\n",
    "    #print(X)\n",
    "    return abs(X[1]-a)\n",
    "\n",
    "def maxMarginSeparator(data):\n",
    "    a_random = getRandomSeparator()\n",
    "    dist = []\n",
    "    for i in range(len(data)):\n",
    "        dist.append(calculateDistance(data[i], a_random))\n",
    "    #print(dist)\n",
    "    minPosDist = min(dist[0:3])\n",
    "    minNegDist = min(dist[4:7])\n",
    "    #print(minPosDist)\n",
    "    #print(minNegDist)\n",
    "    return minPosDist, minNegDist, a_random"
   ]
  },
  {
   "cell_type": "code",
   "execution_count": 220,
   "metadata": {},
   "outputs": [],
   "source": [
    "def xyz():\n",
    "    while True:\n",
    "        minPosDist, minNegDist, a_svm = maxMarginSeparator(data)\n",
    "        if round(minPosDist) == round(minNegDist):\n",
    "            break\n",
    "    print(a_svm)\n",
    "    return a_svm\n",
    "        "
   ]
  },
  {
   "cell_type": "code",
   "execution_count": 221,
   "metadata": {},
   "outputs": [
    {
     "name": "stdout",
     "output_type": "stream",
     "text": [
      "-0.0397780231071605\n"
     ]
    }
   ],
   "source": [
    "a_svm = xyz()"
   ]
  },
  {
   "cell_type": "code",
   "execution_count": 222,
   "metadata": {},
   "outputs": [
    {
     "data": {
      "image/png": "[encoded data removed]",
      "text/plain": [
       "<Figure size 432x288 with 1 Axes>"
      ]
     },
     "metadata": {},
     "output_type": "display_data"
    }
   ],
   "source": [
    "#Part b plotting target function f and hypothesis g of the Problem 1.4 from the HW - 1\n",
    "plt.plot(X1_positive, X2_positive, 'bo')\n",
    "plt.plot(X1_negative, X2_negative, 'ro')\n",
    "x = np.linspace(-1,1)\n",
    "plt.axhline(a_svm)\n",
    "plt.xlabel(\"X1\");\n",
    "plt.ylabel(\"X2\");\n",
    "plt.show()"
   ]
  },
  {
   "cell_type": "code",
   "execution_count": 112,
   "metadata": {},
   "outputs": [],
   "source": [
    "from sklearn import svm"
   ]
  },
  {
   "cell_type": "code",
   "execution_count": 113,
   "metadata": {},
   "outputs": [],
   "source": [
    "clf = svm.SVC(kernel='linear', C = 1.0)"
   ]
  },
  {
   "cell_type": "code",
   "execution_count": 114,
   "metadata": {},
   "outputs": [],
   "source": [
    "X = np.array(data)[:,0:2]\n",
    "y = np.array(data)[:,2]"
   ]
  },
  {
   "cell_type": "code",
   "execution_count": 115,
   "metadata": {},
   "outputs": [
    {
     "data": {
      "text/plain": [
       "SVC(C=1.0, cache_size=200, class_weight=None, coef0=0.0,\n",
       "  decision_function_shape='ovr', degree=3, gamma='auto', kernel='linear',\n",
       "  max_iter=-1, probability=False, random_state=None, shrinking=True,\n",
       "  tol=0.001, verbose=False)"
      ]
     },
     "execution_count": 115,
     "metadata": {},
     "output_type": "execute_result"
    }
   ],
   "source": [
    "clf.fit(X,y)"
   ]
  },
  {
   "cell_type": "code",
   "execution_count": 116,
   "metadata": {},
   "outputs": [
    {
     "name": "stdout",
     "output_type": "stream",
     "text": [
      "[0.73450868 1.14753643]\n",
      "W0 =  0.7345086788244165\n",
      "W1 =  1.147536426500329\n",
      "b =  0.1763067990541458\n"
     ]
    }
   ],
   "source": [
    "print(clf.coef_[0])\n",
    "W = clf.coef_[0]\n",
    "b = clf.intercept_[0]\n",
    "print(\"W0 = \", W[0])\n",
    "print(\"W1 = \", W[1])\n",
    "print(\"b = \", b)"
   ]
  },
  {
   "cell_type": "code",
   "execution_count": 117,
   "metadata": {},
   "outputs": [
    {
     "data": {
      "image/png": "[encoded data removed]",
      "text/plain": [
       "<Figure size 432x288 with 1 Axes>"
      ]
     },
     "metadata": {},
     "output_type": "display_data"
    }
   ],
   "source": [
    "plt.plot(X1_positive, X2_positive, 'bo')\n",
    "plt.plot(X1_negative, X2_negative, 'ro')\n",
    "x = np.linspace(-1,1)\n",
    "plt.plot(x, (-W[0]*x-b)/W[1], color='blue', linestyle='-')\n",
    "plt.plot(x, x-a, color='black', linestyle='-') #plotting hypothesis\n",
    "#plt.axis([-1, 1, -1, 1])\n",
    "plt.xlabel(\"X1\");\n",
    "plt.ylabel(\"X2\");\n",
    "plt.show()"
   ]
  },
  {
   "cell_type": "code",
   "execution_count": 118,
   "metadata": {},
   "outputs": [],
   "source": [
    "def generateRandomThreeDataPoints():\n",
    "    X1_positive = []\n",
    "    X2_positive = []\n",
    "    X1_negative = []\n",
    "    X2_negative = []\n",
    "    \n",
    "    for i in range(3):\n",
    "        X1_positive.append(random.uniform(0,1))\n",
    "        X2_positive.append(random.uniform(0,1))\n",
    "        X1_negative.append(random.uniform(-1,0))\n",
    "        X2_negative.append(random.uniform(-1,0))\n",
    "\n",
    "    #label the data\n",
    "    data1 = [np.array([X1_positive[i],X2_positive[i],1]) for i in range(3)]\n",
    "    data2 = [np.array([X1_negative[i],X2_negative[i],-1]) for i in range(3)]\n",
    "    data = data1 + data2\n",
    "    return data\n",
    "    "
   ]
  },
  {
   "cell_type": "code",
   "execution_count": 119,
   "metadata": {},
   "outputs": [],
   "source": [
    "a_random = []\n",
    "svm_hypothesis = []\n",
    "a_svm = []\n",
    "\n",
    "for j in range(1,100001):\n",
    "\n",
    "    data = generateRandomThreeDataPoints()\n",
    "    \n",
    "    X = np.array(data)[:,0:2]\n",
    "    y = np.array(data)[:,2]\n",
    "    \n",
    "    a_random.append(random.uniform(-1,1))\n",
    "    clf.fit(X,y)\n",
    "    W = clf.coef_[0]\n",
    "    b = clf.intercept_[0]\n",
    "    a_svm.append(-b)\n",
    "    temp = {\n",
    "        \"w0\":W[0],\n",
    "        \"w1\":W[1],\n",
    "        \"b\":b\n",
    "    }\n",
    "    svm_hypothesis.append(temp)"
   ]
  },
  {
   "cell_type": "code",
   "execution_count": 120,
   "metadata": {},
   "outputs": [
    {
     "data": {
      "image/png": "[encoded data removed]",
      "text/plain": [
       "<Figure size 432x288 with 1 Axes>"
      ]
     },
     "metadata": {},
     "output_type": "display_data"
    }
   ],
   "source": [
    "plt.hist(a_random, bins='auto')\n",
    "plt.show()"
   ]
  },
  {
   "cell_type": "code",
   "execution_count": 121,
   "metadata": {},
   "outputs": [
    {
     "data": {
      "image/png": "[encoded data removed]",
      "text/plain": [
       "<Figure size 432x288 with 1 Axes>"
      ]
     },
     "metadata": {},
     "output_type": "display_data"
    }
   ],
   "source": [
    "plt.hist(a_svm, bins='auto')\n",
    "plt.show()"
   ]
  },
  {
   "cell_type": "code",
   "execution_count": null,
   "metadata": {},
   "outputs": [],
   "source": []
  },
  {
   "cell_type": "code",
   "execution_count": null,
   "metadata": {},
   "outputs": [],
   "source": []
  }
 ],
 "metadata": {
  "kernelspec": {
   "display_name": "Python 3",
   "language": "python",
   "name": "python3"
  },
  "language_info": {
   "codemirror_mode": {
    "name": "ipython",
    "version": 3
   },
   "file_extension": ".py",
   "mimetype": "text/x-python",
   "name": "python",
   "nbconvert_exporter": "python",
   "pygments_lexer": "ipython3",
   "version": "3.6.5"
  }
 },
 "nbformat": 4,
 "nbformat_minor": 2
}
