{
 "cells": [
  {
   "cell_type": "markdown",
   "metadata": {},
   "source": [
    "## Generating the three data point part(a)"
   ]
  },
  {
   "cell_type": "code",
   "execution_count": 1,
   "metadata": {
    "_cell_guid": "b1076dfc-b9ad-4769-8c92-a6c4dae69d19",
    "_uuid": "8f2839f25d086af736a60e9eeb907d3b93b6e0e5"
   },
   "outputs": [],
   "source": [
    "import random\n",
    "import numpy as np\n",
    "import matplotlib.pyplot as plt\n",
    "plt.rcParams['axes.unicode_minus'] = False \n",
    "#generate a data set of 20. \n",
    "#for simplicity, 10 in the first quadrant, another 10 in the third quadrant \n",
    "X1_positive = []\n",
    "X2_positive = []\n",
    "X1_negative = []\n",
    "X2_negative = []\n",
    "\n",
    "for i in range(3):\n",
    "    X1_positive.append(random.uniform(0,1))\n",
    "    X2_positive.append(random.uniform(0,1))\n",
    "    X1_negative.append(random.uniform(-1,0))\n",
    "    X2_negative.append(random.uniform(-1,0))\n",
    "    \n",
    "#label the data\n",
    "data1 = [np.array([X1_positive[i],X2_positive[i],1]) for i in range(3)]\n",
    "data2 = [np.array([X2_negative[i],X2_negative[i],-1]) for i in range(3)]\n",
    "data = data1 + data2\n",
    "\n",
    "#data1_PLA = [np.array([1,X1_positive[i],X2_positive[i],1]) for i in range(3)]\n",
    "#data2_PLA = [np.array([1,X1_negative[i],X2_negative[i],-1]) for i in range(3)]\n",
    "#data_PLA = data1_PLA + data2_PLA"
   ]
  },
  {
   "cell_type": "markdown",
   "metadata": {},
   "source": [
    "## Plotting the three data points"
   ]
  },
  {
   "cell_type": "code",
   "execution_count": 2,
   "metadata": {
    "_cell_guid": "79c7e3d0-c299-4dcb-8224-4455121ee9b0",
    "_uuid": "d629ff2d2480ee46fbb7e2d37f6b5fab8052498a"
   },
   "outputs": [
    {
     "data": {
      "image/png": "[encoded data removed]",
      "text/plain": [
       "<Figure size 432x288 with 1 Axes>"
      ]
     },
     "metadata": {},
     "output_type": "display_data"
    }
   ],
   "source": [
    "\n",
    "plt.plot(X1_positive, X2_positive, 'bo')\n",
    "plt.plot(X1_negative, X2_negative, 'ro')\n",
    "x = np.linspace(-1,1)\n",
    "plt.xlabel(\"X1\");\n",
    "plt.ylabel(\"X2\");\n",
    "plt.show()"
   ]
  },
  {
   "cell_type": "markdown",
   "metadata": {},
   "source": [
    "## getRandomSeparator function to get random linear horizontal separator hypothesis"
   ]
  },
  {
   "cell_type": "code",
   "execution_count": 3,
   "metadata": {
    "_uuid": "f3561956bdf6be586ed20fdde8388c2dcf4ee79f"
   },
   "outputs": [],
   "source": [
    "def getRandomSeparator(data):\n",
    "    X2 = np.array(data)[:,1:2]\n",
    "    y = np.array(data)[:,2:3]\n",
    "    flag = False\n",
    "    while flag == False:\n",
    "        a_random = random.uniform(-1,1)\n",
    "        count = 0\n",
    "        for i in range(len(X2)):\n",
    "            if np.sign(X2[i]-a_random)*y[i] == 1:\n",
    "                count += 1\n",
    "        if count == 6:\n",
    "            flag = True\n",
    "                \n",
    "    #print(\"Got random separator at a_random = \", a_random)\n",
    "    return a_random\n",
    "        "
   ]
  },
  {
   "cell_type": "markdown",
   "metadata": {},
   "source": [
    "## Calling the function to get a_random -- Part(b) and plotting it "
   ]
  },
  {
   "cell_type": "code",
   "execution_count": 4,
   "metadata": {
    "_uuid": "342517e787ea123536c70bbcd3482b5b32ff20cc"
   },
   "outputs": [
    {
     "name": "stdout",
     "output_type": "stream",
     "text": [
      "0.32488973514492625\n"
     ]
    }
   ],
   "source": [
    "a_random = getRandomSeparator(data)\n",
    "print(a_random)"
   ]
  },
  {
   "cell_type": "code",
   "execution_count": 5,
   "metadata": {
    "_uuid": "7e463d44fef79f41e3da44a508bdf802bd5a1474"
   },
   "outputs": [
    {
     "data": {
      "image/png": "[encoded data removed]",
      "text/plain": [
       "<Figure size 432x288 with 1 Axes>"
      ]
     },
     "metadata": {},
     "output_type": "display_data"
    }
   ],
   "source": [
    "#Part b plotting target function f and hypothesis g of the Problem 1.4 from the HW - 1\n",
    "plt.plot(X1_positive, X2_positive, 'bo')\n",
    "plt.plot(X1_negative, X2_negative, 'ro')\n",
    "x = np.linspace(-1,1)\n",
    "plt.axhline(a_random)\n",
    "plt.xlabel(\"X1\");\n",
    "plt.ylabel(\"X2\");\n",
    "plt.show()"
   ]
  },
  {
   "cell_type": "markdown",
   "metadata": {},
   "source": [
    "## calculateDistance - function to calulate perpendicular distance from the random line\n",
    "## checkForMarginSeparator - function to get distances for all datapoints from the random line\n",
    "## getMaxMarginSeparatorForSVM - Get max margin separator for a_svm"
   ]
  },
  {
   "cell_type": "code",
   "execution_count": 6,
   "metadata": {
    "_uuid": "5380fc8d0e95557d1951ed383a93925515ff35ae"
   },
   "outputs": [],
   "source": [
    "\n",
    "def calculateDistance(X, a):\n",
    "    #print(X)\n",
    "    return abs(X[1]-a)\n",
    "\n",
    "def checkForMarginSeparator(data):\n",
    "    a = getRandomSeparator(data)\n",
    "    dist = []\n",
    "    for i in range(len(data)):\n",
    "        dist.append(calculateDistance(data[i], a))\n",
    "    #print(dist)\n",
    "    minPosDist = min(dist[0:3])\n",
    "    minNegDist = min(dist[3:6])\n",
    "    #print(minPosDist)\n",
    "    #print(minNegDist)\n",
    "    return minPosDist, minNegDist, a"
   ]
  },
  {
   "cell_type": "code",
   "execution_count": 7,
   "metadata": {
    "_uuid": "1f4cc5dfda79888506bba4b20719d72616e23439"
   },
   "outputs": [],
   "source": [
    "def getMaxMarginSeparatorForSVM(data):\n",
    "    while True:\n",
    "        minPosDist, minNegDist, a_svm = checkForMarginSeparator(data)\n",
    "        #print(minPosDist - minNegDist)\n",
    "        if abs(minPosDist - minNegDist) <= 0.0005:\n",
    "            break\n",
    "    #print(a_svm)\n",
    "    return a_svm\n",
    "        "
   ]
  },
  {
   "cell_type": "markdown",
   "metadata": {},
   "source": [
    "## Calling the function to get a_svm -- Part(b) and plotting it"
   ]
  },
  {
   "cell_type": "code",
   "execution_count": 8,
   "metadata": {
    "_uuid": "94f730ee8f9bc3e59bafb111e2b5a46cc54e6f08"
   },
   "outputs": [],
   "source": [
    "a_svm = getMaxMarginSeparatorForSVM(data)"
   ]
  },
  {
   "cell_type": "code",
   "execution_count": 9,
   "metadata": {
    "_uuid": "77c04718e89956e88f979b389800974e12b9311c"
   },
   "outputs": [
    {
     "data": {
      "image/png": "[encoded data removed]",
      "text/plain": [
       "<Figure size 432x288 with 1 Axes>"
      ]
     },
     "metadata": {},
     "output_type": "display_data"
    }
   ],
   "source": [
    "#Part b plotting target function f and hypothesis g of the Problem 1.4 from the HW - 1\n",
    "plt.plot(X1_positive, X2_positive, 'bo')\n",
    "plt.plot(X1_negative, X2_negative, 'ro')\n",
    "x = np.linspace(-1,1)\n",
    "plt.axhline(a_random,color='r')\n",
    "plt.axhline(a_svm,color='b')\n",
    "plt.xlabel(\"X1\");\n",
    "plt.ylabel(\"X2\");\n",
    "plt.show()"
   ]
  },
  {
   "cell_type": "markdown",
   "metadata": {},
   "source": [
    "## Below function generates three points at random to be called million times"
   ]
  },
  {
   "cell_type": "code",
   "execution_count": 10,
   "metadata": {
    "_uuid": "71cd9f8e7350398401ac9b346797661b223dea88"
   },
   "outputs": [],
   "source": [
    "def generateRandomThreeDataPoints():\n",
    "    X1_positive = []\n",
    "    X2_positive = []\n",
    "    X1_negative = []\n",
    "    X2_negative = []\n",
    "    \n",
    "    for i in range(3):\n",
    "        X1_positive.append(random.uniform(0,1))\n",
    "        X2_positive.append(random.uniform(0,1))\n",
    "        X1_negative.append(random.uniform(-1,0))\n",
    "        X2_negative.append(random.uniform(-1,0))\n",
    "\n",
    "    #label the data\n",
    "    data1 = [np.array([X1_positive[i],X2_positive[i],1]) for i in range(3)]\n",
    "    data2 = [np.array([X1_negative[i],X2_negative[i],-1]) for i in range(3)]\n",
    "    data = data1 + data2\n",
    "    return data\n",
    "    "
   ]
  },
  {
   "cell_type": "markdown",
   "metadata": {},
   "source": [
    "## Part (c) - To get million a_random"
   ]
  },
  {
   "cell_type": "code",
   "execution_count": 11,
   "metadata": {
    "_uuid": "f6297154ffde9560863a30b3895a800977314051"
   },
   "outputs": [],
   "source": [
    "a_random_list = []\n",
    "a_svm_list = []\n",
    "\n",
    "for j in range(1,1000001):\n",
    "    data1 = generateRandomThreeDataPoints()\n",
    "\n",
    "    a_random_list.append(getRandomSeparator(data1))"
   ]
  },
  {
   "cell_type": "markdown",
   "metadata": {},
   "source": [
    "## Part (d) - Plotting histogram for million 'a_random'"
   ]
  },
  {
   "cell_type": "code",
   "execution_count": 12,
   "metadata": {
    "_uuid": "2d0c781eabf86c1c89ab7c9da0638262f1ab851f"
   },
   "outputs": [
    {
     "data": {
      "image/png": "[encoded data removed]",
      "text/plain": [
       "<Figure size 432x288 with 1 Axes>"
      ]
     },
     "metadata": {},
     "output_type": "display_data"
    }
   ],
   "source": [
    "plt.hist(a_random_list, bins='auto')\n",
    "plt.show()"
   ]
  },
  {
   "cell_type": "code",
   "execution_count": 13,
   "metadata": {
    "_uuid": "f9244befb8490898eb4912a43bda974f9beac982"
   },
   "outputs": [],
   "source": [
    "from sklearn import svm\n",
    "clf = svm.SVC(kernel='linear', C = 1.0)"
   ]
  },
  {
   "cell_type": "markdown",
   "metadata": {},
   "source": [
    "## Part (c) - To get million a_svm"
   ]
  },
  {
   "cell_type": "code",
   "execution_count": 14,
   "metadata": {
    "_uuid": "4a5c45939273bbed073128ae9ee8a1c61fe231b2"
   },
   "outputs": [],
   "source": [
    "a_svm_list = []\n",
    "for j in range(1,1000001):\n",
    "    data = generateRandomThreeDataPoints()\n",
    "    \n",
    "    X = np.array(data)[:,0:2]\n",
    "    y = np.array(data)[:,2]\n",
    "    \n",
    "    #a_random.append(random.uniform(-1,1))\n",
    "    clf.fit(X,y)\n",
    "    W = clf.coef_[0]\n",
    "    b = clf.intercept_[0]\n",
    "    a_svm_list.append(-b)"
   ]
  },
  {
   "cell_type": "markdown",
   "metadata": {},
   "source": [
    "## Part (d) - Plotting histogram for million 'a_svm'"
   ]
  },
  {
   "cell_type": "code",
   "execution_count": 15,
   "metadata": {
    "_uuid": "5eeb94d4c1f781bdd0361a1a333762db62bd6795"
   },
   "outputs": [
    {
     "data": {
      "image/png": "[encoded data removed]",
      "text/plain": [
       "<Figure size 432x288 with 1 Axes>"
      ]
     },
     "metadata": {},
     "output_type": "display_data"
    }
   ],
   "source": [
    "plt.hist(a_svm_list, bins='auto')\n",
    "plt.show()"
   ]
  },
  {
   "cell_type": "markdown",
   "metadata": {},
   "source": []
  }
 ],
 "metadata": {
  "kernelspec": {
   "display_name": "Python 3",
   "language": "python",
   "name": "python3"
  },
  "language_info": {
   "codemirror_mode": {
    "name": "ipython",
    "version": 3
   },
   "file_extension": ".py",
   "mimetype": "text/x-python",
   "name": "python",
   "nbconvert_exporter": "python",
   "pygments_lexer": "ipython3",
   "version": "3.6.5"
  }
 },
 "nbformat": 4,
 "nbformat_minor": 1
}
