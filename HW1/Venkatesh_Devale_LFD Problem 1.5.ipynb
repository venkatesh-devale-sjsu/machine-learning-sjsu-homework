{
 "cells": [
  {
   "cell_type": "markdown",
   "metadata": {},
   "source": [
    "# Problem 1.5"
   ]
  },
  {
   "cell_type": "markdown",
   "metadata": {},
   "source": [
    "## (a) Preparing the training data"
   ]
  },
  {
   "cell_type": "code",
   "execution_count": 1,
   "metadata": {},
   "outputs": [],
   "source": [
    "#Problem 1.5 getting the training and test data set\n",
    "import random\n",
    "import numpy as np\n",
    "import matplotlib.pyplot as plt\n",
    "plt.rcParams['axes.unicode_minus'] = False \n",
    "\n",
    "#generate a data set of 100. \n",
    "#for simplicity, 50 in the first quadrant, another 50 in the third quadrant \n",
    "train_X1 = []\n",
    "train_Y1 = []\n",
    "train_X2 = []\n",
    "train_Y2 = []\n",
    "\n",
    "for i in range(50):\n",
    "    train_X1.append(random.uniform(0,1))\n",
    "    train_Y1.append(random.uniform(0,1))\n",
    "    train_X2.append(random.uniform(-1,0))\n",
    "    train_Y2.append(random.uniform(-1,0))\n",
    "    \n",
    "#label the data\n",
    "train_data1 = [np.array([1,train_X1[i],train_Y1[i],1]) for i in range(50)]\n",
    "train_data2 = [np.array([1,train_X2[i],train_Y2[i],-1]) for i in range(50)]\n",
    "train_data = train_data1 + train_data2"
   ]
  },
  {
   "cell_type": "markdown",
   "metadata": {},
   "source": [
    "## (a) Preparing the test data"
   ]
  },
  {
   "cell_type": "code",
   "execution_count": 2,
   "metadata": {},
   "outputs": [],
   "source": [
    "#generate a test data set of 10000. \n",
    "#for simplicity, 5000 in the first quadrant, another 10 in the third quadrant \n",
    "test_X1 = []\n",
    "test_Y1 = []\n",
    "test_X2 = []\n",
    "test_Y2 = []\n",
    "\n",
    "for i in range(5000):\n",
    "    test_X1.append(random.uniform(0,1))\n",
    "    test_Y1.append(random.uniform(0,1))\n",
    "    test_X2.append(random.uniform(-1,0))\n",
    "    test_Y2.append(random.uniform(-1,0))\n",
    "    \n",
    "#label the data\n",
    "test_data1 = [np.array([1,test_X1[i],test_Y1[i],1]) for i in range(5000)]\n",
    "test_data2 = [np.array([1,test_X2[i],test_Y2[i],-1]) for i in range(5000)]\n",
    "test_data = test_data1 + test_data2"
   ]
  },
  {
   "cell_type": "markdown",
   "metadata": {},
   "source": [
    "## (a) Developed the variation of Adaline Algorithm"
   ]
  },
  {
   "cell_type": "code",
   "execution_count": 5,
   "metadata": {},
   "outputs": [],
   "source": [
    "#Problem 1.5 variation of Adaline perceptron learning algorithm\n",
    "class Perceptron(object):\n",
    "    def __init__(self, data, learning_rate=100):\n",
    "        self.W = np.zeros(len(data[0:3]))\n",
    "        self.update = 0\n",
    "        self.learning_rate = learning_rate\n",
    "    \n",
    "    def predict(self, x):\n",
    "        #activation = np.dot(self.W.T,x)\n",
    "        #return np.sign(activation)\n",
    "        return np.dot(self.W.T,x)\n",
    "    \n",
    "    def getErrorRate(self, test_data):\n",
    "        X = np.array(test_data)[:,0:3]\n",
    "        d = np.array(test_data)[:, 3:4]\n",
    "        errorCount = 0\n",
    "        for i in range(len(test_data)):\n",
    "            predicted_value = self.predict(X[i])\n",
    "            expected_value = d[i]\n",
    "            if expected_value != predicted_value:\n",
    "                errorCount += 1\n",
    "        return (errorCount)/len(test_data)*100\n",
    "                \n",
    "    \n",
    "    \n",
    "    def fit(self, data):\n",
    "        count = 0\n",
    "        X = np.array(data)[:,0:3]\n",
    "        d = np.array(data)[:, 3:4]\n",
    "        while self.update < 1000:\n",
    "            for i in range(len(data)):\n",
    "                predicted_value_y = self.predict(X[i])\n",
    "                expected_value = d[i]\n",
    "                if expected_value * predicted_value_y <=1:\n",
    "                    self.W = self.W + self.learning_rate*(expected_value - predicted_value_y) * X[i]\n",
    "                    self.update += 1\n",
    "        #if self.update == 1000:\n",
    "        print(\"Number of iterations for converging:\", self.update)\n"
   ]
  },
  {
   "cell_type": "markdown",
   "metadata": {},
   "source": [
    "## (a) Running the algorithm for learning rate = 100"
   ]
  },
  {
   "cell_type": "code",
   "execution_count": 4,
   "metadata": {},
   "outputs": [
    {
     "name": "stderr",
     "output_type": "stream",
     "text": [
      "/Users/venkateshdevale/anaconda3/lib/python3.6/site-packages/ipykernel_launcher.py:35: RuntimeWarning: overflow encountered in multiply\n"
     ]
    },
    {
     "ename": "KeyboardInterrupt",
     "evalue": "",
     "output_type": "error",
     "traceback": [
      "\u001b[0;31m---------------------------------------------------------------------------\u001b[0m",
      "\u001b[0;31mKeyboardInterrupt\u001b[0m                         Traceback (most recent call last)",
      "\u001b[0;32m<ipython-input-4-6ca06061fa50>\u001b[0m in \u001b[0;36m<module>\u001b[0;34m()\u001b[0m\n\u001b[1;32m      2\u001b[0m \u001b[0;34m\u001b[0m\u001b[0m\n\u001b[1;32m      3\u001b[0m \u001b[0mperceptron\u001b[0m \u001b[0;34m=\u001b[0m \u001b[0mPerceptron\u001b[0m\u001b[0;34m(\u001b[0m\u001b[0mtrain_data\u001b[0m\u001b[0;34m)\u001b[0m\u001b[0;34m\u001b[0m\u001b[0m\n\u001b[0;32m----> 4\u001b[0;31m \u001b[0mperceptron\u001b[0m\u001b[0;34m.\u001b[0m\u001b[0mfit\u001b[0m\u001b[0;34m(\u001b[0m\u001b[0mtrain_data\u001b[0m\u001b[0;34m)\u001b[0m\u001b[0;34m\u001b[0m\u001b[0m\n\u001b[0m\u001b[1;32m      5\u001b[0m \u001b[0mprint\u001b[0m\u001b[0;34m(\u001b[0m\u001b[0;34m\"Final weight vector:\"\u001b[0m\u001b[0;34m,\u001b[0m\u001b[0mperceptron\u001b[0m\u001b[0;34m.\u001b[0m\u001b[0mW\u001b[0m\u001b[0;34m)\u001b[0m\u001b[0;34m\u001b[0m\u001b[0m\n\u001b[1;32m      6\u001b[0m \u001b[0mprint\u001b[0m\u001b[0;34m(\u001b[0m\u001b[0;34m\"Error rate on test data with learning rate {0}:{1}\"\u001b[0m\u001b[0;34m.\u001b[0m\u001b[0mformat\u001b[0m\u001b[0;34m(\u001b[0m\u001b[0;36m100\u001b[0m\u001b[0;34m,\u001b[0m\u001b[0mperceptron\u001b[0m\u001b[0;34m.\u001b[0m\u001b[0mgetErrorRate\u001b[0m\u001b[0;34m(\u001b[0m\u001b[0mtest_data\u001b[0m\u001b[0;34m)\u001b[0m\u001b[0;34m)\u001b[0m\u001b[0;34m)\u001b[0m\u001b[0;34m\u001b[0m\u001b[0m\n",
      "\u001b[0;32m<ipython-input-3-67053bd6792d>\u001b[0m in \u001b[0;36mfit\u001b[0;34m(self, data)\u001b[0m\n\u001b[1;32m     32\u001b[0m                 \u001b[0mpredicted_value_y\u001b[0m \u001b[0;34m=\u001b[0m \u001b[0mself\u001b[0m\u001b[0;34m.\u001b[0m\u001b[0mpredict\u001b[0m\u001b[0;34m(\u001b[0m\u001b[0mX\u001b[0m\u001b[0;34m[\u001b[0m\u001b[0mi\u001b[0m\u001b[0;34m]\u001b[0m\u001b[0;34m)\u001b[0m\u001b[0;34m\u001b[0m\u001b[0m\n\u001b[1;32m     33\u001b[0m                 \u001b[0mexpected_value\u001b[0m \u001b[0;34m=\u001b[0m \u001b[0md\u001b[0m\u001b[0;34m[\u001b[0m\u001b[0mi\u001b[0m\u001b[0;34m]\u001b[0m\u001b[0;34m\u001b[0m\u001b[0m\n\u001b[0;32m---> 34\u001b[0;31m                 \u001b[0;32mif\u001b[0m \u001b[0mexpected_value\u001b[0m \u001b[0;34m*\u001b[0m \u001b[0mpredicted_value_y\u001b[0m \u001b[0;34m<=\u001b[0m\u001b[0;36m1\u001b[0m\u001b[0;34m:\u001b[0m\u001b[0;34m\u001b[0m\u001b[0m\n\u001b[0m\u001b[1;32m     35\u001b[0m                     \u001b[0mself\u001b[0m\u001b[0;34m.\u001b[0m\u001b[0mW\u001b[0m \u001b[0;34m=\u001b[0m \u001b[0mself\u001b[0m\u001b[0;34m.\u001b[0m\u001b[0mW\u001b[0m \u001b[0;34m+\u001b[0m \u001b[0mself\u001b[0m\u001b[0;34m.\u001b[0m\u001b[0mlearning_rate\u001b[0m\u001b[0;34m*\u001b[0m\u001b[0;34m(\u001b[0m\u001b[0mexpected_value\u001b[0m \u001b[0;34m-\u001b[0m \u001b[0mpredicted_value_y\u001b[0m\u001b[0;34m)\u001b[0m \u001b[0;34m*\u001b[0m \u001b[0mX\u001b[0m\u001b[0;34m[\u001b[0m\u001b[0mi\u001b[0m\u001b[0;34m]\u001b[0m\u001b[0;34m\u001b[0m\u001b[0m\n\u001b[1;32m     36\u001b[0m                     \u001b[0mself\u001b[0m\u001b[0;34m.\u001b[0m\u001b[0mupdate\u001b[0m \u001b[0;34m+=\u001b[0m \u001b[0;36m1\u001b[0m\u001b[0;34m\u001b[0m\u001b[0m\n",
      "\u001b[0;31mKeyboardInterrupt\u001b[0m: "
     ]
    }
   ],
   "source": [
    "#Problem 1.5 a)\n",
    "\n",
    "perceptron = Perceptron(train_data)\n",
    "perceptron.fit(train_data)\n",
    "print(\"Final weight vector:\",perceptron.W)\n",
    "print(\"Error rate on test data with learning rate {0}:{1}\".format(100,perceptron.getErrorRate(test_data)))\n"
   ]
  },
  {
   "cell_type": "markdown",
   "metadata": {},
   "source": [
    "## Plotting with learning rate = 100"
   ]
  },
  {
   "cell_type": "code",
   "execution_count": null,
   "metadata": {},
   "outputs": [],
   "source": [
    "#Plotting on training data\n",
    "plt.plot(train_X1, train_Y1, 'bo')\n",
    "plt.plot(train_X2, train_Y2, 'ro')\n",
    "x = np.linspace(-1,1)\n",
    "#plt.plot(x, -x, color='green', linestyle='-')\n",
    "plt.plot(x, (-perceptron.W[0]-perceptron.W[1]*x)/perceptron.W[2], color='black', linestyle='-')\n",
    "#plt.axis([-1, 1, -1, 1])\n",
    "plt.xlabel(\"X1\");\n",
    "plt.ylabel(\"X2\");\n",
    "plt.show()"
   ]
  },
  {
   "cell_type": "markdown",
   "metadata": {},
   "source": [
    "## (b) Running the algorithm for learning rate = 1"
   ]
  },
  {
   "cell_type": "code",
   "execution_count": 11,
   "metadata": {},
   "outputs": [
    {
     "name": "stdout",
     "output_type": "stream",
     "text": [
      "Number of iterations for converging: 1001\n",
      "Final weight vector: [0.43672224 6.47433681 5.73521961]\n",
      "Error rate on test data with learning rate 1:100.0\n"
     ]
    }
   ],
   "source": [
    "#Problem 1.5 b)\n",
    "perceptron = Perceptron(train_data, 1)\n",
    "perceptron.fit(train_data)\n",
    "print(\"Final weight vector:\",perceptron.W)\n",
    "print(\"Error rate on test data with learning rate {0}:{1}\".format(1,perceptron.getErrorRate(test_data)))"
   ]
  },
  {
   "cell_type": "markdown",
   "metadata": {},
   "source": [
    "## Plotting with learning rate = 1"
   ]
  },
  {
   "cell_type": "code",
   "execution_count": 12,
   "metadata": {},
   "outputs": [
    {
     "data": {
      "image/png": "[encoded data removed]",
      "text/plain": [
       "<Figure size 432x288 with 1 Axes>"
      ]
     },
     "metadata": {},
     "output_type": "display_data"
    }
   ],
   "source": [
    "#Plotting on training data\n",
    "plt.plot(train_X1, train_Y1, 'bo')\n",
    "plt.plot(train_X2, train_Y2, 'ro')\n",
    "x = np.linspace(-1,1)\n",
    "#plt.plot(x, -x, color='green', linestyle='-')\n",
    "plt.plot(x, (-perceptron.W[0]-perceptron.W[1]*x)/perceptron.W[2], color='black', linestyle='-')\n",
    "#plt.axis([-1, 1, -1, 1])\n",
    "plt.xlabel(\"X1\");\n",
    "plt.ylabel(\"X2\");\n",
    "plt.show()"
   ]
  },
  {
   "cell_type": "markdown",
   "metadata": {},
   "source": [
    "## (c) Running the algorithm for learning rate = 0.01"
   ]
  },
  {
   "cell_type": "code",
   "execution_count": 9,
   "metadata": {},
   "outputs": [
    {
     "name": "stdout",
     "output_type": "stream",
     "text": [
      "Number of iterations for converging: 1034\n",
      "Final weight vector: [0.00784409 1.37736153 1.30760402]\n",
      "Error rate on test data with learning rate 0.01:100.0\n"
     ]
    }
   ],
   "source": [
    "#Problem 1.5 c)\n",
    "perceptron = Perceptron(train_data, 0.01)\n",
    "perceptron.fit(train_data)\n",
    "print(\"Final weight vector:\",perceptron.W)\n",
    "print(\"Error rate on test data with learning rate {0}:{1}\".format(0.01,perceptron.getErrorRate(test_data)))"
   ]
  },
  {
   "cell_type": "markdown",
   "metadata": {},
   "source": [
    "## Plotting with learning rate = 0.01"
   ]
  },
  {
   "cell_type": "code",
   "execution_count": 10,
   "metadata": {},
   "outputs": [
    {
     "data": {
      "image/png": "[encoded data removed]",
      "text/plain": [
       "<Figure size 432x288 with 1 Axes>"
      ]
     },
     "metadata": {},
     "output_type": "display_data"
    }
   ],
   "source": [
    "#Plotting on training data\n",
    "plt.plot(train_X1, train_Y1, 'bo')\n",
    "plt.plot(train_X2, train_Y2, 'ro')\n",
    "x = np.linspace(-1,1)\n",
    "#plt.plot(x, -x, color='green', linestyle='-')\n",
    "plt.plot(x, (-perceptron.W[0]-perceptron.W[1]*x)/perceptron.W[2], color='black', linestyle='-')\n",
    "#plt.axis([-1, 1, -1, 1])\n",
    "plt.xlabel(\"X1\");\n",
    "plt.ylabel(\"X2\");\n",
    "plt.show()"
   ]
  },
  {
   "cell_type": "markdown",
   "metadata": {},
   "source": [
    "## Plotting test data for learning rate 0.01 which is considered to be the optimum"
   ]
  },
  {
   "cell_type": "code",
   "execution_count": 8,
   "metadata": {},
   "outputs": [
    {
     "data": {
      "image/png": "[encoded data removed]",
      "text/plain": [
       "<Figure size 432x288 with 1 Axes>"
      ]
     },
     "metadata": {},
     "output_type": "display_data"
    }
   ],
   "source": [
    "#Plotting on testing data\n",
    "plt.plot(test_X1, test_Y1, 'bo')\n",
    "plt.plot(test_X2, test_Y2, 'ro')\n",
    "#x = np.linspace(-1,1)\n",
    "#plt.plot(x, -x, color='green', linestyle='-')\n",
    "plt.plot(x, (-perceptron.W[0]-perceptron.W[1]*x)/perceptron.W[2], color='black', linestyle='-')\n",
    "#plt.axis([-1, 1, -1, 1])\n",
    "plt.xlabel(\"X1\");\n",
    "plt.ylabel(\"X2\");\n",
    "plt.show()"
   ]
  },
  {
   "cell_type": "markdown",
   "metadata": {},
   "source": [
    "## (d) Running the algorithm for learning rate = 0.0001"
   ]
  },
  {
   "cell_type": "code",
   "execution_count": 13,
   "metadata": {},
   "outputs": [
    {
     "name": "stdout",
     "output_type": "stream",
     "text": [
      "Number of iterations for converging: 1000\n",
      "Final weight vector: [-3.93128390e-05  4.86304469e-02  4.36446761e-02]\n",
      "Error rate on test data with learning rate 0.001:100.0\n"
     ]
    }
   ],
   "source": [
    "#Problem 1.5 d)\n",
    "perceptron = Perceptron(train_data, 0.0001)\n",
    "perceptron.fit(train_data)\n",
    "print(\"Final weight vector:\",perceptron.W)\n",
    "print(\"Error rate on test data with learning rate {0}:{1}\".format(0.001,perceptron.getErrorRate(test_data)))\n"
   ]
  },
  {
   "cell_type": "markdown",
   "metadata": {},
   "source": [
    "## Plotting with learning rate = 0.0001"
   ]
  },
  {
   "cell_type": "code",
   "execution_count": 14,
   "metadata": {},
   "outputs": [
    {
     "data": {
      "image/png": "[encoded data removed]",
      "text/plain": [
       "<Figure size 432x288 with 1 Axes>"
      ]
     },
     "metadata": {},
     "output_type": "display_data"
    }
   ],
   "source": [
    "#Plotting on training data\n",
    "plt.plot(train_X1, train_Y1, 'bo')\n",
    "plt.plot(train_X2, train_Y2, 'ro')\n",
    "x = np.linspace(-1,1)\n",
    "#plt.plot(x, -x, color='green', linestyle='-')\n",
    "plt.plot(x, (-perceptron.W[0]-perceptron.W[1]*x)/perceptron.W[2], color='black', linestyle='-')\n",
    "#plt.axis([-1, 1, -1, 1])\n",
    "plt.xlabel(\"X1\");\n",
    "plt.ylabel(\"X2\");\n",
    "plt.show()"
   ]
  },
  {
   "cell_type": "markdown",
   "metadata": {},
   "source": [
    "## (e)"
   ]
  },
  {
   "cell_type": "markdown",
   "metadata": {},
   "source": [
    "### There is no difference here due the nature of the data as already confirmed with professor for my case hence we are getting the error rate percent with various learning rates as same, but generally this learning rate should be not too low and not too high to correctly converge the weight vector"
   ]
  },
  {
   "cell_type": "code",
   "execution_count": null,
   "metadata": {},
   "outputs": [],
   "source": []
  }
 ],
 "metadata": {
  "kernelspec": {
   "display_name": "Python 3",
   "language": "python",
   "name": "python3"
  },
  "language_info": {
   "codemirror_mode": {
    "name": "ipython",
    "version": 3
   },
   "file_extension": ".py",
   "mimetype": "text/x-python",
   "name": "python",
   "nbconvert_exporter": "python",
   "pygments_lexer": "ipython3",
   "version": "3.6.5"
  }
 },
 "nbformat": 4,
 "nbformat_minor": 2
}
