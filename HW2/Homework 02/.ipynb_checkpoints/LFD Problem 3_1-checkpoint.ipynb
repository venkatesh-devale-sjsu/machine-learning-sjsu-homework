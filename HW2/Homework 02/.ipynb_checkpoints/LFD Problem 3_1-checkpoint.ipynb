{
 "cells": [
  {
   "cell_type": "code",
   "execution_count": 40,
   "metadata": {},
   "outputs": [],
   "source": [
    "import numpy as np\n",
    "\n",
    "#parameters\n",
    "rad = 10\n",
    "thk = 5\n",
    "sep = 5\n",
    "\n",
    "#n data points,(x1,y1) are the coordinates of the top semi-circle\n",
    "def generatedata(rad,thk,sep,n,x1=0,y1=0):\n",
    "    # center of the top semi-circle\n",
    "    X1 = x1\n",
    "    Y1 = y1\n",
    "\n",
    "    # center of the bottom semi-circle\n",
    "    X2 = X1 + rad + thk / 2\n",
    "    Y2 = Y1 - sep\n",
    "    \n",
    "    # data points in the top semi-circle\n",
    "    top = []\n",
    "    # data points in the bottom semi-circle\n",
    "    bottom = []\n",
    "    \n",
    "    # parameters\n",
    "    r1 = rad + thk\n",
    "    r2 = rad\n",
    "    \n",
    "    cnt = 1\n",
    "    while(cnt <= n):\n",
    "        #uniformed generated points\n",
    "        x = np.random.uniform(-r1,r1)\n",
    "        y = np.random.uniform(-r1,r1)\n",
    "        \n",
    "        d = x**2 + y**2\n",
    "        if(d >= r2**2 and d <= r1**2):\n",
    "            if (y > 0):\n",
    "                top.append([X1 + x,Y1 + y])\n",
    "                cnt += 1\n",
    "            else:\n",
    "                bottom.append([X2 + x,Y2 + y])\n",
    "                cnt += 1\n",
    "        else:\n",
    "            continue\n",
    "\n",
    "    return top,bottom"
   ]
  },
  {
   "cell_type": "code",
   "execution_count": 41,
   "metadata": {},
   "outputs": [
    {
     "data": {
      "image/png": "[encoded data removed]",
      "text/plain": [
       "<Figure size 432x288 with 1 Axes>"
      ]
     },
     "metadata": {},
     "output_type": "display_data"
    }
   ],
   "source": [
    "import matplotlib.pyplot as plt\n",
    "top,bottom = generatedata(rad,thk,sep,1000)\n",
    "\n",
    "X1 = [i[0] for i in top]\n",
    "Y1 = [i[1] for i in top]\n",
    "\n",
    "X2 = [i[0] for i in bottom]\n",
    "Y2 = [i[1] for i in bottom]\n",
    "\n",
    "plt.scatter(X1,Y1,s = 1)\n",
    "plt.scatter(X2,Y2,s = 1)\n",
    "plt.show()"
   ]
  },
  {
   "cell_type": "code",
   "execution_count": 42,
   "metadata": {},
   "outputs": [],
   "source": [
    "# pre-processing the data for (a)\n",
    "x1 = [[1] + i + [1] for i in top]\n",
    "x2 = [[1] + i + [-1] for i in bottom]\n",
    "data = x1 + x2\n",
    "    \n",
    "data = np.array(data)\n",
    "np.random.shuffle(data)"
   ]
  },
  {
   "cell_type": "code",
   "execution_count": 43,
   "metadata": {},
   "outputs": [
    {
     "data": {
      "text/plain": [
       "array([[  1.        ,  11.94023204,   3.99800331,   1.        ],\n",
       "       [  1.        ,  11.03003599,   4.89164658,   1.        ],\n",
       "       [  1.        ,  12.09904014, -15.98859497,  -1.        ],\n",
       "       ...,\n",
       "       [  1.        ,   1.83868703,  -6.02412074,  -1.        ],\n",
       "       [  1.        , -10.86913117,   8.50898931,   1.        ],\n",
       "       [  1.        ,   5.43241748,  13.91721274,   1.        ]])"
      ]
     },
     "execution_count": 43,
     "metadata": {},
     "output_type": "execute_result"
    }
   ],
   "source": [
    "data"
   ]
  },
  {
   "cell_type": "markdown",
   "metadata": {},
   "source": [
    "# Normal Perceptron Learning Alogorithm - Part (a)"
   ]
  },
  {
   "cell_type": "code",
   "execution_count": 44,
   "metadata": {},
   "outputs": [],
   "source": [
    "#Perceptron Learning Algorithm\n",
    "class Perceptron(object):\n",
    "    def __init__(self, data):\n",
    "        self.W = np.zeros(len(data[0:3]))\n",
    "        self.update = 0\n",
    "    \n",
    "    def predict(self, x):\n",
    "        activation = np.dot(self.W.T,x)\n",
    "        return np.sign(activation)\n",
    "    \n",
    "    def fit(self, data):\n",
    "        count = 0\n",
    "        X = np.array(data)[:,0:3]\n",
    "        d = np.array(data)[:, 3:4]\n",
    "        while True:\n",
    "            self.update = 0\n",
    "            for i in range(len(data)):\n",
    "                predicted_value_y = self.predict(X[i])\n",
    "                expected_value = d[i]\n",
    "                if expected_value * predicted_value_y <=0:\n",
    "                    self.W = self.W + expected_value * X[i]\n",
    "                    count += 1\n",
    "                    self.update += 1\n",
    "                    break\n",
    "            if self.update == 0:\n",
    "                break\n",
    "        print(\"Number of iterations for converging:\",count)"
   ]
  },
  {
   "cell_type": "code",
   "execution_count": 45,
   "metadata": {},
   "outputs": [
    {
     "name": "stdout",
     "output_type": "stream",
     "text": [
      "Number of iterations for converging: 2\n",
      "[ 0.         -0.1588081  19.98659828]\n"
     ]
    }
   ],
   "source": [
    "#Part b where count is the number of updates before converging\n",
    "\n",
    "#Initializing Perceptron Learning Algorithm\n",
    "perceptron = Perceptron(data)\n",
    "\n",
    "#Running Perceptron Learning Algorithm\n",
    "number_of_updates = perceptron.fit(data)\n",
    "\n",
    "#Printing converged weight vector with count\n",
    "print(perceptron.W)"
   ]
  },
  {
   "cell_type": "markdown",
   "metadata": {},
   "source": [
    "# Plotting with normal perceptron obtained weight vector"
   ]
  },
  {
   "cell_type": "code",
   "execution_count": 46,
   "metadata": {},
   "outputs": [
    {
     "data": {
      "image/png": "[encoded data removed]",
      "text/plain": [
       "<Figure size 432x288 with 1 Axes>"
      ]
     },
     "metadata": {},
     "output_type": "display_data"
    }
   ],
   "source": [
    "#Part b plotting target function f and hypothesis g of the Problem 1.4 from the HW - 1\n",
    "plt.plot(X1, Y1, 'bo')\n",
    "plt.plot(X2, Y2, 'ro')\n",
    "x = np.array(data)[:,0:3]\n",
    "plt.plot(x, ((-perceptron.W[0]-perceptron.W[1]*x))/perceptron.W[2], color='black', linestyle='-') #plotting hypothesis\n",
    "plt.xlabel(\"X1\");\n",
    "plt.ylabel(\"X2\");\n",
    "plt.show()"
   ]
  },
  {
   "cell_type": "markdown",
   "metadata": {},
   "source": [
    "# Linear Regression Algorithm - Part (b)"
   ]
  },
  {
   "cell_type": "code",
   "execution_count": 47,
   "metadata": {},
   "outputs": [],
   "source": [
    "#Linear Regression Algorithm\n",
    "class LinearRegression(object):\n",
    "    def __init__(self, data):\n",
    "        self.W_lin = np.zeros(len(data[0:3]))\n",
    "        self.X_pinv = np.zeros(len(data[0:3]))\n",
    "        \n",
    "    def fit(self, X, y):\n",
    "        self.X_pinv = np.linalg.pinv(X)\n",
    "        self.W_lin = np.dot(self.X_pinv, y)\n",
    "        print(\"Weight Vector in Linear Regression: \", self.W_lin)"
   ]
  },
  {
   "cell_type": "code",
   "execution_count": 48,
   "metadata": {},
   "outputs": [
    {
     "name": "stdout",
     "output_type": "stream",
     "text": [
      "Weight Vector in Linear Regression:  [[ 0.25796823]\n",
      " [-0.00882287]\n",
      " [ 0.07739831]]\n"
     ]
    }
   ],
   "source": [
    "X = np.array(data)[:,0:3]\n",
    "y = np.array(data)[:, 3:4]\n",
    "lr = LinearRegression(data)\n",
    "lr.fit(X, y)"
   ]
  },
  {
   "cell_type": "markdown",
   "metadata": {},
   "source": [
    "# Plotting with Linear Regression obtained weight vector"
   ]
  },
  {
   "cell_type": "code",
   "execution_count": 49,
   "metadata": {},
   "outputs": [
    {
     "data": {
      "image/png": "[encoded data removed]",
      "text/plain": [
       "<Figure size 432x288 with 1 Axes>"
      ]
     },
     "metadata": {},
     "output_type": "display_data"
    }
   ],
   "source": [
    "plt.plot(X1, Y1, 'bo')\n",
    "plt.plot(X2, Y2, 'ro')\n",
    "x = np.array(data)[:,0:3]\n",
    "plt.plot(x, ((-lr.W_lin[0]-lr.W_lin[1]*x))/lr.W_lin[2], color='black', linestyle='-') #plotting hypothesis\n",
    "plt.xlabel(\"X1\");\n",
    "plt.ylabel(\"X2\");\n",
    "plt.show()"
   ]
  }
 ],
 "metadata": {
  "kernelspec": {
   "display_name": "Python 3",
   "language": "python",
   "name": "python3"
  },
  "language_info": {
   "codemirror_mode": {
    "name": "ipython",
    "version": 3
   },
   "file_extension": ".py",
   "mimetype": "text/x-python",
   "name": "python",
   "nbconvert_exporter": "python",
   "pygments_lexer": "ipython3",
   "version": "3.6.5"
  }
 },
 "nbformat": 4,
 "nbformat_minor": 2
}
